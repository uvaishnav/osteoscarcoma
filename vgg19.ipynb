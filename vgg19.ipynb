{
 "cells": [
  {
   "cell_type": "code",
   "execution_count": 33,
   "metadata": {},
   "outputs": [],
   "source": [
    "import tensorflow as tf\n",
    "from tensorflow.keras.preprocessing.image import ImageDataGenerator"
   ]
  },
  {
   "cell_type": "code",
   "execution_count": 34,
   "metadata": {},
   "outputs": [],
   "source": [
    "ostro_dir = 'Osteosarcoma-UT'\n",
    "\n",
    "\n",
    "\n",
    "# Define image dimensions and batch size\n",
    "img_height = 224\n",
    "img_width = 224\n",
    "batch_size = 32\n",
    "\n",
    "train_datagen = ImageDataGenerator(\n",
    "    rescale=1./255,  # Normalize pixel values to [0, 1]\n",
    "    rotation_range=20,  # Random rotation\n",
    "    width_shift_range=0.2,  # Random horizontal shift\n",
    "    height_shift_range=0.2,  # Random vertical shift\n",
    "    shear_range=0.2,  # Shear transformation\n",
    "    zoom_range=0.2,  # Random zoom\n",
    "    horizontal_flip=True,  # Random horizontal flip\n",
    "    fill_mode='nearest'\n",
    ")\n",
    "\n",
    "\n",
    "test_datagen = ImageDataGenerator(\n",
    "    rescale=1./255\n",
    ")"
   ]
  },
  {
   "cell_type": "code",
   "execution_count": 35,
   "metadata": {},
   "outputs": [
    {
     "name": "stdout",
     "output_type": "stream",
     "text": [
      "['Viable', 'Non-Tumor', 'Non-Viable-Tumor']\n"
     ]
    }
   ],
   "source": [
    "from sklearn.model_selection import train_test_split\n",
    "import os\n",
    "\n",
    "# Define the root directory containing subfolders for each class\n",
    "root_dir = 'Osteosarcoma-UT'\n",
    "\n",
    "# Get the list of class names\n",
    "classes = os.listdir(root_dir)\n",
    "print(classes)\n",
    "\n",
    "# Split the data into training and validation sets\n",
    "train_data = []\n",
    "val_data = []\n",
    "for cls in classes:\n",
    "    cls_dir = os.path.join(root_dir, cls)\n",
    "    images = [os.path.join(cls_dir, img) for img in os.listdir(cls_dir)]\n",
    "    train_images, val_images = train_test_split(images, test_size=0.2, random_state=42)\n",
    "    train_data.extend([(img, cls) for img in train_images])\n",
    "    val_data.extend([(img, cls) for img in val_images])\n",
    "\n",
    "# Further split the training data into training and testing sets\n",
    "train_images, test_images = train_test_split(train_data, test_size=0.2, random_state=42)\n",
    "\n",
    "# Now you have train_images, val_data, and test_images containing paths to images for each set\n",
    "\n"
   ]
  },
  {
   "cell_type": "code",
   "execution_count": 36,
   "metadata": {},
   "outputs": [
    {
     "name": "stdout",
     "output_type": "stream",
     "text": [
      "Found 731 validated image filenames belonging to 3 classes.\n",
      "Found 230 validated image filenames belonging to 3 classes.\n",
      "Found 183 validated image filenames belonging to 3 classes.\n"
     ]
    }
   ],
   "source": [
    "import pandas as pd\n",
    "from sklearn.model_selection import train_test_split\n",
    "\n",
    "# Assuming you have a DataFrame with two columns: 'file_path' and 'label'\n",
    "train_df = pd.DataFrame(train_images, columns=['file_path', 'label'])\n",
    "val_df = pd.DataFrame(val_data, columns=['file_path', 'label'])\n",
    "test_df = pd.DataFrame(test_images, columns=['file_path', 'label'])\n",
    "\n",
    "# Split the data into file paths and labels\n",
    "train_data = train_df['file_path']\n",
    "train_labels = train_df['label']\n",
    "\n",
    "val_data = val_df['file_path']\n",
    "val_labels = val_df['label']\n",
    "\n",
    "test_data = test_df['file_path']\n",
    "test_labels = test_df['label']\n",
    "\n",
    "# You can create separate data generators for each set\n",
    "train_generator = train_datagen.flow_from_dataframe(\n",
    "    dataframe=train_df,\n",
    "    x_col='file_path',\n",
    "    y_col='label',\n",
    "    target_size=(img_height, img_width),\n",
    "    batch_size=batch_size,\n",
    "    class_mode='categorical',\n",
    "    shuffle=True\n",
    ")\n",
    "\n",
    "validation_generator = test_datagen.flow_from_dataframe(\n",
    "    dataframe=val_df,\n",
    "    x_col='file_path',\n",
    "    y_col='label',\n",
    "    target_size=(img_height, img_width),\n",
    "    batch_size=batch_size,\n",
    "    class_mode='categorical',\n",
    "    shuffle=False\n",
    ")\n",
    "\n",
    "test_generator = test_datagen.flow_from_dataframe(\n",
    "    dataframe=test_df,\n",
    "    x_col='file_path',\n",
    "    y_col='label',\n",
    "    target_size=(img_height, img_width),\n",
    "    batch_size=batch_size,\n",
    "    class_mode='categorical',\n",
    "    shuffle=False\n",
    ")\n"
   ]
  },
  {
   "cell_type": "code",
   "execution_count": 37,
   "metadata": {},
   "outputs": [],
   "source": [
    "from tensorflow.keras.callbacks import EarlyStopping\n",
    "early_stopping = EarlyStopping(monitor='val_loss', patience=5, restore_best_weights=True)\n"
   ]
  },
  {
   "cell_type": "code",
   "execution_count": 38,
   "metadata": {},
   "outputs": [
    {
     "name": "stderr",
     "output_type": "stream",
     "text": [
      "WARNING:absl:At this time, the v2.11+ optimizer `tf.keras.optimizers.SGD` runs slowly on M1/M2 Macs, please use the legacy Keras optimizer instead, located at `tf.keras.optimizers.legacy.SGD`.\n",
      "WARNING:absl:`lr` is deprecated in Keras optimizer, please use `learning_rate` or use the legacy optimizer, e.g.,tf.keras.optimizers.legacy.SGD.\n"
     ]
    },
    {
     "name": "stdout",
     "output_type": "stream",
     "text": [
      "Model: \"model_4\"\n",
      "_________________________________________________________________\n",
      " Layer (type)                Output Shape              Param #   \n",
      "=================================================================\n",
      " input_5 (InputLayer)        [(None, None, None, 3)]   0         \n",
      "                                                                 \n",
      " block1_conv1 (Conv2D)       (None, None, None, 64)    1792      \n",
      "                                                                 \n",
      " block1_conv2 (Conv2D)       (None, None, None, 64)    36928     \n",
      "                                                                 \n",
      " block1_pool (MaxPooling2D)  (None, None, None, 64)    0         \n",
      "                                                                 \n",
      " block2_conv1 (Conv2D)       (None, None, None, 128)   73856     \n",
      "                                                                 \n",
      " block2_conv2 (Conv2D)       (None, None, None, 128)   147584    \n",
      "                                                                 \n",
      " block2_pool (MaxPooling2D)  (None, None, None, 128)   0         \n",
      "                                                                 \n",
      " block3_conv1 (Conv2D)       (None, None, None, 256)   295168    \n",
      "                                                                 \n",
      " block3_conv2 (Conv2D)       (None, None, None, 256)   590080    \n",
      "                                                                 \n",
      " block3_conv3 (Conv2D)       (None, None, None, 256)   590080    \n",
      "                                                                 \n",
      " block3_conv4 (Conv2D)       (None, None, None, 256)   590080    \n",
      "                                                                 \n",
      " block3_pool (MaxPooling2D)  (None, None, None, 256)   0         \n",
      "                                                                 \n",
      " block4_conv1 (Conv2D)       (None, None, None, 512)   1180160   \n",
      "                                                                 \n",
      " block4_conv2 (Conv2D)       (None, None, None, 512)   2359808   \n",
      "                                                                 \n",
      " block4_conv3 (Conv2D)       (None, None, None, 512)   2359808   \n",
      "                                                                 \n",
      " block4_conv4 (Conv2D)       (None, None, None, 512)   2359808   \n",
      "                                                                 \n",
      " block4_pool (MaxPooling2D)  (None, None, None, 512)   0         \n",
      "                                                                 \n",
      " block5_conv1 (Conv2D)       (None, None, None, 512)   2359808   \n",
      "                                                                 \n",
      " block5_conv2 (Conv2D)       (None, None, None, 512)   2359808   \n",
      "                                                                 \n",
      " block5_conv3 (Conv2D)       (None, None, None, 512)   2359808   \n",
      "                                                                 \n",
      " block5_conv4 (Conv2D)       (None, None, None, 512)   2359808   \n",
      "                                                                 \n",
      " block5_pool (MaxPooling2D)  (None, None, None, 512)   0         \n",
      "                                                                 \n",
      " global_average_pooling2d_4  (None, 512)               0         \n",
      "  (GlobalAveragePooling2D)                                       \n",
      "                                                                 \n",
      " dense_8 (Dense)             (None, 1024)              525312    \n",
      "                                                                 \n",
      " dense_9 (Dense)             (None, 3)                 3075      \n",
      "                                                                 \n",
      "=================================================================\n",
      "Total params: 20552771 (78.40 MB)\n",
      "Trainable params: 528387 (2.02 MB)\n",
      "Non-trainable params: 20024384 (76.39 MB)\n",
      "_________________________________________________________________\n"
     ]
    }
   ],
   "source": [
    "import tensorflow as tf\n",
    "from tensorflow.keras.preprocessing.image import ImageDataGenerator\n",
    "from tensorflow.keras.applications import VGG19\n",
    "from tensorflow.keras.layers import Dense, GlobalAveragePooling2D\n",
    "from tensorflow.keras.models import Model\n",
    "from tensorflow.keras.optimizers import SGD\n",
    "\n",
    "\n",
    "img_width, img_height = 224, 224\n",
    "batch_size = 32\n",
    "\n",
    "# Load pre-trained VGG19 without top layers\n",
    "base_model = VGG19(weights='imagenet', include_top=False)\n",
    "\n",
    "x = base_model.output\n",
    "x = GlobalAveragePooling2D()(x)\n",
    "x = Dense(1024, activation='relu')(x)  # You can add more dense layers if needed\n",
    "predictions = Dense(3, activation='softmax')(x) \n",
    "\n",
    "\n",
    "model = Model(inputs=base_model.input, outputs=predictions)\n",
    "\n",
    "# Freeze pre-trained layers\n",
    "for layer in base_model.layers:\n",
    "    layer.trainable = False\n",
    "\n",
    "# Compile the model\n",
    "model.compile(optimizer=SGD(lr=0.001, momentum=0.9),\n",
    "              loss='categorical_crossentropy',\n",
    "              metrics=['accuracy'])\n",
    "\n",
    "\n",
    "model.summary()"
   ]
  },
  {
   "cell_type": "code",
   "execution_count": 39,
   "metadata": {},
   "outputs": [
    {
     "name": "stdout",
     "output_type": "stream",
     "text": [
      "Epoch 1/100\n"
     ]
    },
    {
     "name": "stderr",
     "output_type": "stream",
     "text": [
      "2024-02-22 12:39:55.217550: E tensorflow/core/grappler/optimizers/meta_optimizer.cc:961] model_pruner failed: INVALID_ARGUMENT: Graph does not contain terminal node SGD/AssignVariableOp.\n"
     ]
    },
    {
     "name": "stdout",
     "output_type": "stream",
     "text": [
      "23/23 [==============================] - 20s 805ms/step - loss: 1.0953 - accuracy: 0.4542 - val_loss: 0.8824 - val_accuracy: 0.5348\n",
      "Epoch 2/100\n",
      "23/23 [==============================] - 19s 801ms/step - loss: 0.7351 - accuracy: 0.6908 - val_loss: 0.5914 - val_accuracy: 0.7913\n",
      "Epoch 3/100\n",
      "23/23 [==============================] - 18s 782ms/step - loss: 0.6731 - accuracy: 0.7237 - val_loss: 0.8239 - val_accuracy: 0.7217\n",
      "Epoch 4/100\n",
      "23/23 [==============================] - 18s 790ms/step - loss: 0.6498 - accuracy: 0.7620 - val_loss: 0.5003 - val_accuracy: 0.8261\n",
      "Epoch 5/100\n",
      "23/23 [==============================] - 19s 813ms/step - loss: 0.6310 - accuracy: 0.7524 - val_loss: 0.5639 - val_accuracy: 0.7565\n",
      "Epoch 6/100\n",
      "23/23 [==============================] - 20s 864ms/step - loss: 0.5746 - accuracy: 0.7674 - val_loss: 0.4695 - val_accuracy: 0.8261\n",
      "Epoch 7/100\n",
      "23/23 [==============================] - 21s 916ms/step - loss: 0.5214 - accuracy: 0.8016 - val_loss: 0.5477 - val_accuracy: 0.7783\n",
      "Epoch 8/100\n",
      "23/23 [==============================] - 26s 1s/step - loss: 0.5175 - accuracy: 0.8030 - val_loss: 0.5325 - val_accuracy: 0.8043\n",
      "Epoch 9/100\n",
      "23/23 [==============================] - 23s 967ms/step - loss: 0.5985 - accuracy: 0.7866 - val_loss: 0.6056 - val_accuracy: 0.7696\n",
      "Epoch 10/100\n",
      "23/23 [==============================] - 24s 1s/step - loss: 0.5844 - accuracy: 0.7702 - val_loss: 0.4623 - val_accuracy: 0.8217\n",
      "Epoch 11/100\n",
      "23/23 [==============================] - 23s 981ms/step - loss: 0.4731 - accuracy: 0.8140 - val_loss: 0.4550 - val_accuracy: 0.8261\n",
      "Epoch 12/100\n",
      "23/23 [==============================] - 23s 1s/step - loss: 0.4818 - accuracy: 0.7962 - val_loss: 0.4423 - val_accuracy: 0.8435\n",
      "Epoch 13/100\n",
      "23/23 [==============================] - 24s 1s/step - loss: 0.4861 - accuracy: 0.8181 - val_loss: 0.5728 - val_accuracy: 0.7739\n",
      "Epoch 14/100\n",
      "23/23 [==============================] - 23s 1s/step - loss: 0.5141 - accuracy: 0.7907 - val_loss: 0.4392 - val_accuracy: 0.8435\n",
      "Epoch 15/100\n",
      "23/23 [==============================] - 24s 1s/step - loss: 0.4718 - accuracy: 0.8222 - val_loss: 0.4090 - val_accuracy: 0.8609\n",
      "Epoch 16/100\n",
      "23/23 [==============================] - 24s 1s/step - loss: 0.4801 - accuracy: 0.8181 - val_loss: 0.4366 - val_accuracy: 0.8435\n",
      "Epoch 17/100\n",
      "23/23 [==============================] - 24s 1s/step - loss: 0.5023 - accuracy: 0.7962 - val_loss: 0.4525 - val_accuracy: 0.8087\n",
      "Epoch 18/100\n",
      "23/23 [==============================] - 24s 1s/step - loss: 0.5169 - accuracy: 0.7934 - val_loss: 0.6294 - val_accuracy: 0.7478\n",
      "Epoch 19/100\n",
      "23/23 [==============================] - 24s 1s/step - loss: 0.4443 - accuracy: 0.8276 - val_loss: 0.4453 - val_accuracy: 0.8478\n",
      "Epoch 20/100\n",
      "23/23 [==============================] - 24s 1s/step - loss: 0.4855 - accuracy: 0.8126 - val_loss: 0.4272 - val_accuracy: 0.8565\n"
     ]
    }
   ],
   "source": [
    "# Train the model\n",
    "history = model.fit(train_generator,\n",
    "                    steps_per_epoch=len(train_generator),\n",
    "                    epochs=100,\n",
    "                    validation_data=validation_generator,\n",
    "                    validation_steps=len(validation_generator),\n",
    "                    callbacks=[early_stopping])"
   ]
  },
  {
   "cell_type": "code",
   "execution_count": 40,
   "metadata": {},
   "outputs": [
    {
     "name": "stdout",
     "output_type": "stream",
     "text": [
      "5/5 [==============================] - 4s 645ms/step - loss: 0.3376 - accuracy: 0.9062\n",
      "Test accuracy: 0.90625\n"
     ]
    }
   ],
   "source": [
    "test_loss, test_acc = model.evaluate(test_generator, steps=test_generator.samples // batch_size)\n",
    "print(\"Test accuracy:\", test_acc)"
   ]
  },
  {
   "cell_type": "code",
   "execution_count": 41,
   "metadata": {},
   "outputs": [
    {
     "name": "stdout",
     "output_type": "stream",
     "text": [
      "5/5 [==============================] - 3s 636ms/step - loss: 0.3376 - accuracy: 0.9062\n",
      "Test accuracy: 0.90625\n"
     ]
    },
    {
     "name": "stderr",
     "output_type": "stream",
     "text": [
      "/var/folders/yd/6l3qbbqj2qx_y_lxrr45xd480000gn/T/ipykernel_24207/3608557048.py:12: UserWarning: `Model.predict_generator` is deprecated and will be removed in a future version. Please use `Model.predict`, which supports generators.\n",
      "  y_pred = model.predict_generator(test_generator, steps=test_generator.samples // batch_size + 1)\n"
     ]
    },
    {
     "name": "stdout",
     "output_type": "stream",
     "text": [
      "Macro-averaged F1-score: 0.8979066022544284\n",
      "Confusion matrix:\n",
      " [[86  7  0]\n",
      " [ 2 39  3]\n",
      " [ 3  2 41]]\n",
      "AUC-ROC scores for each class: 0.9730004010403084\n",
      "Average AUC-ROC score: 0.9730004010403084\n"
     ]
    }
   ],
   "source": [
    "import numpy as np\n",
    "from sklearn.metrics import f1_score, confusion_matrix, roc_auc_score\n",
    "\n",
    "# Assuming you already have your test generator and model trained\n",
    "\n",
    "# Evaluate the model using test generator\n",
    "test_loss, test_acc = model.evaluate(test_generator, steps=test_generator.samples // batch_size)\n",
    "print(\"Test accuracy:\", test_acc)\n",
    "\n",
    "# Get predictions and true labels\n",
    "# Ensure that steps is set to get the correct number of samples\n",
    "y_pred = model.predict_generator(test_generator, steps=test_generator.samples // batch_size + 1)\n",
    "y_true = test_generator.classes\n",
    "\n",
    "# Only take the necessary number of samples from y_true\n",
    "y_true = y_true[:len(y_pred)]\n",
    "\n",
    "# Calculate macro-averaged F1-score\n",
    "macro_f1 = f1_score(y_true, y_pred.argmax(axis=1), average='macro')\n",
    "print(\"Macro-averaged F1-score:\", macro_f1)\n",
    "\n",
    "# Calculate confusion matrix\n",
    "cm = confusion_matrix(y_true, y_pred.argmax(axis=1))\n",
    "print(\"Confusion matrix:\\n\", cm)\n",
    "\n",
    "# Calculate AUC-ROC score for each class\n",
    "y_onehot = np.zeros((len(y_true), len(np.unique(y_true))))\n",
    "y_onehot[np.arange(len(y_true)), y_true] = 1\n",
    "auc_roc_scores = roc_auc_score(y_onehot, y_pred, multi_class='ovr')\n",
    "print(\"AUC-ROC scores for each class:\", auc_roc_scores)\n",
    "\n",
    "# Calculate average AUC-ROC score\n",
    "average_auc_roc = np.mean(auc_roc_scores)\n",
    "print(\"Average AUC-ROC score:\", average_auc_roc)\n"
   ]
  }
 ],
 "metadata": {
  "kernelspec": {
   "display_name": "base",
   "language": "python",
   "name": "python3"
  },
  "language_info": {
   "codemirror_mode": {
    "name": "ipython",
    "version": 3
   },
   "file_extension": ".py",
   "mimetype": "text/x-python",
   "name": "python",
   "nbconvert_exporter": "python",
   "pygments_lexer": "ipython3",
   "version": "3.11.3"
  }
 },
 "nbformat": 4,
 "nbformat_minor": 2
}
