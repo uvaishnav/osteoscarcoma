{
 "cells": [
  {
   "cell_type": "code",
   "execution_count": 16,
   "metadata": {},
   "outputs": [],
   "source": [
    "import tensorflow as tf\n",
    "from tensorflow.keras.preprocessing.image import ImageDataGenerator"
   ]
  },
  {
   "cell_type": "code",
   "execution_count": 17,
   "metadata": {},
   "outputs": [],
   "source": [
    "ostro_dir = 'Osteosarcoma-UT'\n",
    "\n",
    "\n",
    "\n",
    "# Define image dimensions and batch size\n",
    "img_height = 224\n",
    "img_width = 224\n",
    "batch_size = 32\n",
    "\n",
    "train_datagen = ImageDataGenerator(\n",
    "    rescale=1./255,  # Normalize pixel values to [0, 1]\n",
    "    rotation_range=20,  # Random rotation\n",
    "    width_shift_range=0.2,  # Random horizontal shift\n",
    "    height_shift_range=0.2,  # Random vertical shift\n",
    "    shear_range=0.2,  # Shear transformation\n",
    "    zoom_range=0.2,  # Random zoom\n",
    "    horizontal_flip=True,  # Random horizontal flip\n",
    "    fill_mode='nearest'\n",
    ")\n",
    "\n",
    "\n",
    "test_datagen = ImageDataGenerator(\n",
    "    rescale=1./255\n",
    ")"
   ]
  },
  {
   "cell_type": "code",
   "execution_count": 18,
   "metadata": {},
   "outputs": [
    {
     "name": "stdout",
     "output_type": "stream",
     "text": [
      "['Viable', 'Non-Tumor', 'Non-Viable-Tumor']\n"
     ]
    }
   ],
   "source": [
    "from sklearn.model_selection import train_test_split\n",
    "import os\n",
    "\n",
    "# Define the root directory containing subfolders for each class\n",
    "root_dir = 'Osteosarcoma-UT'\n",
    "\n",
    "# Get the list of class names\n",
    "classes = os.listdir(root_dir)\n",
    "print(classes)\n",
    "\n",
    "# Split the data into training and validation sets\n",
    "train_data = []\n",
    "val_data = []\n",
    "for cls in classes:\n",
    "    cls_dir = os.path.join(root_dir, cls)\n",
    "    images = [os.path.join(cls_dir, img) for img in os.listdir(cls_dir)]\n",
    "    train_images, val_images = train_test_split(images, test_size=0.2, random_state=42)\n",
    "    train_data.extend([(img, cls) for img in train_images])\n",
    "    val_data.extend([(img, cls) for img in val_images])\n",
    "\n",
    "# Further split the training data into training and testing sets\n",
    "train_images, test_images = train_test_split(train_data, test_size=0.2, random_state=42)\n",
    "\n",
    "# Now you have train_images, val_data, and test_images containing paths to images for each set\n",
    "\n"
   ]
  },
  {
   "cell_type": "code",
   "execution_count": 19,
   "metadata": {},
   "outputs": [
    {
     "name": "stdout",
     "output_type": "stream",
     "text": [
      "Found 914 validated image filenames belonging to 3 classes.\n",
      "Found 230 validated image filenames belonging to 3 classes.\n",
      "Found 183 validated image filenames belonging to 3 classes.\n"
     ]
    }
   ],
   "source": [
    "import pandas as pd\n",
    "from sklearn.model_selection import train_test_split\n",
    "\n",
    "# Assuming you have a DataFrame with two columns: 'file_path' and 'label'\n",
    "train_df = pd.DataFrame(train_data, columns=['file_path', 'label'])\n",
    "val_df = pd.DataFrame(val_data, columns=['file_path', 'label'])\n",
    "test_df = pd.DataFrame(test_images, columns=['file_path', 'label'])\n",
    "\n",
    "# Split the data into file paths and labels\n",
    "train_data = train_df['file_path']\n",
    "train_labels = train_df['label']\n",
    "\n",
    "val_data = val_df['file_path']\n",
    "val_labels = val_df['label']\n",
    "\n",
    "test_data = test_df['file_path']\n",
    "test_labels = test_df['label']\n",
    "\n",
    "# You can create separate data generators for each set\n",
    "train_generator = train_datagen.flow_from_dataframe(\n",
    "    dataframe=train_df,\n",
    "    x_col='file_path',\n",
    "    y_col='label',\n",
    "    target_size=(img_height, img_width),\n",
    "    batch_size=batch_size,\n",
    "    class_mode='categorical',\n",
    "    shuffle=True\n",
    ")\n",
    "\n",
    "validation_generator = test_datagen.flow_from_dataframe(\n",
    "    dataframe=val_df,\n",
    "    x_col='file_path',\n",
    "    y_col='label',\n",
    "    target_size=(img_height, img_width),\n",
    "    batch_size=batch_size,\n",
    "    class_mode='categorical',\n",
    "    shuffle=False\n",
    ")\n",
    "\n",
    "test_generator = test_datagen.flow_from_dataframe(\n",
    "    dataframe=test_df,\n",
    "    x_col='file_path',\n",
    "    y_col='label',\n",
    "    target_size=(img_height, img_width),\n",
    "    batch_size=batch_size,\n",
    "    class_mode='categorical',\n",
    "    shuffle=False\n",
    ")\n"
   ]
  },
  {
   "cell_type": "code",
   "execution_count": 20,
   "metadata": {},
   "outputs": [],
   "source": [
    "from tensorflow.keras.callbacks import EarlyStopping\n",
    "early_stopping = EarlyStopping(monitor='val_loss', patience=5, restore_best_weights=True)\n"
   ]
  },
  {
   "cell_type": "code",
   "execution_count": 21,
   "metadata": {},
   "outputs": [
    {
     "name": "stderr",
     "output_type": "stream",
     "text": [
      "WARNING:absl:At this time, the v2.11+ optimizer `tf.keras.optimizers.SGD` runs slowly on M1/M2 Macs, please use the legacy Keras optimizer instead, located at `tf.keras.optimizers.legacy.SGD`.\n",
      "WARNING:absl:`lr` is deprecated in Keras optimizer, please use `learning_rate` or use the legacy optimizer, e.g.,tf.keras.optimizers.legacy.SGD.\n"
     ]
    },
    {
     "name": "stdout",
     "output_type": "stream",
     "text": [
      "Model: \"model_2\"\n",
      "_________________________________________________________________\n",
      " Layer (type)                Output Shape              Param #   \n",
      "=================================================================\n",
      " input_3 (InputLayer)        [(None, None, None, 3)]   0         \n",
      "                                                                 \n",
      " block1_conv1 (Conv2D)       (None, None, None, 64)    1792      \n",
      "                                                                 \n",
      " block1_conv2 (Conv2D)       (None, None, None, 64)    36928     \n",
      "                                                                 \n",
      " block1_pool (MaxPooling2D)  (None, None, None, 64)    0         \n",
      "                                                                 \n",
      " block2_conv1 (Conv2D)       (None, None, None, 128)   73856     \n",
      "                                                                 \n",
      " block2_conv2 (Conv2D)       (None, None, None, 128)   147584    \n",
      "                                                                 \n",
      " block2_pool (MaxPooling2D)  (None, None, None, 128)   0         \n",
      "                                                                 \n",
      " block3_conv1 (Conv2D)       (None, None, None, 256)   295168    \n",
      "                                                                 \n",
      " block3_conv2 (Conv2D)       (None, None, None, 256)   590080    \n",
      "                                                                 \n",
      " block3_conv3 (Conv2D)       (None, None, None, 256)   590080    \n",
      "                                                                 \n",
      " block3_conv4 (Conv2D)       (None, None, None, 256)   590080    \n",
      "                                                                 \n",
      " block3_pool (MaxPooling2D)  (None, None, None, 256)   0         \n",
      "                                                                 \n",
      " block4_conv1 (Conv2D)       (None, None, None, 512)   1180160   \n",
      "                                                                 \n",
      " block4_conv2 (Conv2D)       (None, None, None, 512)   2359808   \n",
      "                                                                 \n",
      " block4_conv3 (Conv2D)       (None, None, None, 512)   2359808   \n",
      "                                                                 \n",
      " block4_conv4 (Conv2D)       (None, None, None, 512)   2359808   \n",
      "                                                                 \n",
      " block4_pool (MaxPooling2D)  (None, None, None, 512)   0         \n",
      "                                                                 \n",
      " block5_conv1 (Conv2D)       (None, None, None, 512)   2359808   \n",
      "                                                                 \n",
      " block5_conv2 (Conv2D)       (None, None, None, 512)   2359808   \n",
      "                                                                 \n",
      " block5_conv3 (Conv2D)       (None, None, None, 512)   2359808   \n",
      "                                                                 \n",
      " block5_conv4 (Conv2D)       (None, None, None, 512)   2359808   \n",
      "                                                                 \n",
      " block5_pool (MaxPooling2D)  (None, None, None, 512)   0         \n",
      "                                                                 \n",
      " global_average_pooling2d_2  (None, 512)               0         \n",
      "  (GlobalAveragePooling2D)                                       \n",
      "                                                                 \n",
      " dense_4 (Dense)             (None, 1024)              525312    \n",
      "                                                                 \n",
      " dense_5 (Dense)             (None, 3)                 3075      \n",
      "                                                                 \n",
      "=================================================================\n",
      "Total params: 20552771 (78.40 MB)\n",
      "Trainable params: 528387 (2.02 MB)\n",
      "Non-trainable params: 20024384 (76.39 MB)\n",
      "_________________________________________________________________\n"
     ]
    }
   ],
   "source": [
    "import tensorflow as tf\n",
    "from tensorflow.keras.preprocessing.image import ImageDataGenerator\n",
    "from tensorflow.keras.applications import VGG19\n",
    "from tensorflow.keras.layers import Dense, GlobalAveragePooling2D\n",
    "from tensorflow.keras.models import Model\n",
    "from tensorflow.keras.optimizers import SGD\n",
    "\n",
    "\n",
    "img_width, img_height = 224, 224\n",
    "batch_size = 32\n",
    "\n",
    "# Load pre-trained VGG19 without top layers\n",
    "base_model = VGG19(weights='imagenet', include_top=False)\n",
    "\n",
    "x = base_model.output\n",
    "x = GlobalAveragePooling2D()(x)\n",
    "x = Dense(1024, activation='relu')(x)  # You can add more dense layers if needed\n",
    "predictions = Dense(3, activation='softmax')(x) \n",
    "\n",
    "\n",
    "model = Model(inputs=base_model.input, outputs=predictions)\n",
    "\n",
    "# Freeze pre-trained layers\n",
    "for layer in base_model.layers:\n",
    "    layer.trainable = False\n",
    "\n",
    "# Compile the model\n",
    "model.compile(optimizer=SGD(lr=0.001, momentum=0.9),\n",
    "              loss='categorical_crossentropy',\n",
    "              metrics=['accuracy'])\n",
    "\n",
    "\n",
    "model.summary()"
   ]
  },
  {
   "cell_type": "code",
   "execution_count": 22,
   "metadata": {},
   "outputs": [
    {
     "name": "stdout",
     "output_type": "stream",
     "text": [
      "Epoch 1/100\n"
     ]
    },
    {
     "name": "stderr",
     "output_type": "stream",
     "text": [
      "2024-02-21 19:04:34.329305: E tensorflow/core/grappler/optimizers/meta_optimizer.cc:961] model_pruner failed: INVALID_ARGUMENT: Graph does not contain terminal node SGD/AssignVariableOp.\n"
     ]
    },
    {
     "name": "stdout",
     "output_type": "stream",
     "text": [
      "29/29 [==============================] - 23s 758ms/step - loss: 1.0090 - accuracy: 0.5208 - val_loss: 0.7061 - val_accuracy: 0.7348\n",
      "Epoch 2/100\n",
      "29/29 [==============================] - 22s 743ms/step - loss: 0.6571 - accuracy: 0.7144 - val_loss: 0.5758 - val_accuracy: 0.8000\n",
      "Epoch 3/100\n",
      "29/29 [==============================] - 22s 748ms/step - loss: 0.5809 - accuracy: 0.7779 - val_loss: 0.5302 - val_accuracy: 0.8174\n",
      "Epoch 4/100\n",
      "29/29 [==============================] - 23s 776ms/step - loss: 0.5577 - accuracy: 0.7801 - val_loss: 0.4965 - val_accuracy: 0.8261\n",
      "Epoch 5/100\n",
      "29/29 [==============================] - 25s 869ms/step - loss: 0.5355 - accuracy: 0.7987 - val_loss: 0.4978 - val_accuracy: 0.8130\n",
      "Epoch 6/100\n",
      "29/29 [==============================] - 29s 985ms/step - loss: 0.5002 - accuracy: 0.8009 - val_loss: 0.4553 - val_accuracy: 0.8435\n",
      "Epoch 7/100\n",
      "29/29 [==============================] - 33s 1s/step - loss: 0.4898 - accuracy: 0.8009 - val_loss: 0.4657 - val_accuracy: 0.8174\n",
      "Epoch 8/100\n",
      "29/29 [==============================] - 33s 1s/step - loss: 0.5078 - accuracy: 0.7965 - val_loss: 0.4506 - val_accuracy: 0.8391\n",
      "Epoch 9/100\n",
      "29/29 [==============================] - 36s 1s/step - loss: 0.4941 - accuracy: 0.8085 - val_loss: 0.6378 - val_accuracy: 0.8000\n",
      "Epoch 10/100\n",
      "29/29 [==============================] - 34s 1s/step - loss: 0.4625 - accuracy: 0.8282 - val_loss: 0.4283 - val_accuracy: 0.8609\n",
      "Epoch 11/100\n",
      "29/29 [==============================] - 31s 1s/step - loss: 0.4490 - accuracy: 0.8195 - val_loss: 0.4323 - val_accuracy: 0.8522\n",
      "Epoch 12/100\n",
      "29/29 [==============================] - 33s 1s/step - loss: 0.4865 - accuracy: 0.8129 - val_loss: 0.6087 - val_accuracy: 0.7696\n",
      "Epoch 13/100\n",
      "29/29 [==============================] - 33s 1s/step - loss: 0.4605 - accuracy: 0.8206 - val_loss: 0.4325 - val_accuracy: 0.8522\n",
      "Epoch 14/100\n",
      "29/29 [==============================] - 36s 1s/step - loss: 0.4242 - accuracy: 0.8381 - val_loss: 0.4407 - val_accuracy: 0.8609\n",
      "Epoch 15/100\n",
      "29/29 [==============================] - 35s 1s/step - loss: 0.4267 - accuracy: 0.8534 - val_loss: 0.4149 - val_accuracy: 0.8696\n",
      "Epoch 16/100\n",
      "29/29 [==============================] - 35s 1s/step - loss: 0.4811 - accuracy: 0.8063 - val_loss: 0.5560 - val_accuracy: 0.8043\n",
      "Epoch 17/100\n",
      "29/29 [==============================] - 35s 1s/step - loss: 0.4468 - accuracy: 0.8337 - val_loss: 0.4958 - val_accuracy: 0.8217\n",
      "Epoch 18/100\n",
      "29/29 [==============================] - 33s 1s/step - loss: 0.4431 - accuracy: 0.8249 - val_loss: 0.4499 - val_accuracy: 0.8348\n",
      "Epoch 19/100\n",
      "29/29 [==============================] - 34s 1s/step - loss: 0.4235 - accuracy: 0.8403 - val_loss: 0.4685 - val_accuracy: 0.8348\n",
      "Epoch 20/100\n",
      "29/29 [==============================] - 34s 1s/step - loss: 0.4769 - accuracy: 0.8249 - val_loss: 0.4312 - val_accuracy: 0.8565\n"
     ]
    }
   ],
   "source": [
    "# Train the model\n",
    "history = model.fit(train_generator,\n",
    "                    steps_per_epoch=len(train_generator),\n",
    "                    epochs=100,\n",
    "                    validation_data=validation_generator,\n",
    "                    validation_steps=len(validation_generator),\n",
    "                    callbacks=[early_stopping])"
   ]
  },
  {
   "cell_type": "code",
   "execution_count": 23,
   "metadata": {},
   "outputs": [
    {
     "name": "stdout",
     "output_type": "stream",
     "text": [
      "5/5 [==============================] - 4s 772ms/step - loss: 0.2829 - accuracy: 0.9312\n",
      "Test accuracy: 0.9312499761581421\n"
     ]
    }
   ],
   "source": [
    "test_loss, test_acc = model.evaluate(test_generator, steps=test_generator.samples // batch_size)\n",
    "print(\"Test accuracy:\", test_acc)"
   ]
  },
  {
   "cell_type": "code",
   "execution_count": null,
   "metadata": {},
   "outputs": [],
   "source": []
  }
 ],
 "metadata": {
  "kernelspec": {
   "display_name": "base",
   "language": "python",
   "name": "python3"
  },
  "language_info": {
   "codemirror_mode": {
    "name": "ipython",
    "version": 3
   },
   "file_extension": ".py",
   "mimetype": "text/x-python",
   "name": "python",
   "nbconvert_exporter": "python",
   "pygments_lexer": "ipython3",
   "version": "3.11.3"
  }
 },
 "nbformat": 4,
 "nbformat_minor": 2
}
