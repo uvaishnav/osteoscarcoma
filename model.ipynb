{
 "cells": [
  {
   "cell_type": "code",
   "execution_count": 7,
   "metadata": {},
   "outputs": [],
   "source": [
    "import tensorflow as tf\n",
    "from tensorflow.keras.preprocessing.image import ImageDataGenerator"
   ]
  },
  {
   "cell_type": "code",
   "execution_count": 8,
   "metadata": {},
   "outputs": [],
   "source": [
    "ostro_dir = 'Osteosarcoma-UT'\n",
    "\n",
    "\n",
    "\n",
    "# Define image dimensions and batch size\n",
    "img_height = 224\n",
    "img_width = 224\n",
    "batch_size = 32\n",
    "\n",
    "train_datagen = ImageDataGenerator(\n",
    "    rescale=1./255,  # Normalize pixel values to [0, 1]\n",
    "    rotation_range=20,  # Random rotation\n",
    "    width_shift_range=0.2,  # Random horizontal shift\n",
    "    height_shift_range=0.2,  # Random vertical shift\n",
    "    shear_range=0.2,  # Shear transformation\n",
    "    zoom_range=0.2,  # Random zoom\n",
    "    horizontal_flip=True,  # Random horizontal flip\n",
    "    fill_mode='nearest'\n",
    ")\n",
    "\n",
    "\n",
    "test_datagen = ImageDataGenerator(\n",
    "    rescale=1./255\n",
    ")"
   ]
  },
  {
   "cell_type": "code",
   "execution_count": 9,
   "metadata": {},
   "outputs": [
    {
     "name": "stdout",
     "output_type": "stream",
     "text": [
      "['Viable', 'Non-Tumor', 'Non-Viable-Tumor']\n",
      "Viable contains 295 images\n",
      "Non-Tumor contains 533 images\n",
      "Non-Viable-Tumor contains 316 images\n"
     ]
    }
   ],
   "source": [
    "from sklearn.model_selection import train_test_split\n",
    "import os\n",
    "\n",
    "# Define the root directory containing subfolders for each class\n",
    "root_dir = 'Osteosarcoma-UT'\n",
    "\n",
    "# Get the list of class names\n",
    "classes = os.listdir(root_dir)\n",
    "print(classes)\n",
    "\n",
    "for i in classes:\n",
    "    clas_path = os.path.join(root_dir,i)\n",
    "    print(\"{} contains {} images\".format(i,len(os.listdir(clas_path))))\n",
    "\n",
    "# Split the data into training and validation sets\n",
    "train_data = []\n",
    "val_data = []\n",
    "for cls in classes:\n",
    "    cls_dir = os.path.join(root_dir, cls)\n",
    "    images = [os.path.join(cls_dir, img) for img in os.listdir(cls_dir)]\n",
    "    train_images, val_images = train_test_split(images, test_size=0.2, random_state=42)\n",
    "    train_data.extend([(img, cls) for img in train_images])\n",
    "    val_data.extend([(img, cls) for img in val_images])\n",
    "\n",
    "# Further split the training data into training and testing sets\n",
    "train_images, test_images = train_test_split(train_data, test_size=0.2, random_state=42)\n",
    "\n",
    "# Now you have train_images, val_data, and test_images containing paths to images for each set\n",
    "\n"
   ]
  },
  {
   "cell_type": "code",
   "execution_count": 10,
   "metadata": {},
   "outputs": [
    {
     "name": "stdout",
     "output_type": "stream",
     "text": [
      "Found 914 validated image filenames belonging to 3 classes.\n",
      "Found 230 validated image filenames belonging to 3 classes.\n",
      "Found 183 validated image filenames belonging to 3 classes.\n"
     ]
    }
   ],
   "source": [
    "import pandas as pd\n",
    "from sklearn.model_selection import train_test_split\n",
    "\n",
    "# Assuming you have a DataFrame with two columns: 'file_path' and 'label'\n",
    "train_df = pd.DataFrame(train_data, columns=['file_path', 'label'])\n",
    "val_df = pd.DataFrame(val_data, columns=['file_path', 'label'])\n",
    "test_df = pd.DataFrame(test_images, columns=['file_path', 'label'])\n",
    "\n",
    "# Split the data into file paths and labels\n",
    "train_data = train_df['file_path']\n",
    "train_labels = train_df['label']\n",
    "\n",
    "val_data = val_df['file_path']\n",
    "val_labels = val_df['label']\n",
    "\n",
    "test_data = test_df['file_path']\n",
    "test_labels = test_df['label']\n",
    "\n",
    "# You can create separate data generators for each set\n",
    "train_generator = train_datagen.flow_from_dataframe(\n",
    "    dataframe=train_df,\n",
    "    x_col='file_path',\n",
    "    y_col='label',\n",
    "    target_size=(img_height, img_width),\n",
    "    batch_size=batch_size,\n",
    "    class_mode='categorical',\n",
    "    shuffle=True\n",
    ")\n",
    "\n",
    "validation_generator = test_datagen.flow_from_dataframe(\n",
    "    dataframe=val_df,\n",
    "    x_col='file_path',\n",
    "    y_col='label',\n",
    "    target_size=(img_height, img_width),\n",
    "    batch_size=batch_size,\n",
    "    class_mode='categorical',\n",
    "    shuffle=False\n",
    ")\n",
    "\n",
    "test_generator = test_datagen.flow_from_dataframe(\n",
    "    dataframe=test_df,\n",
    "    x_col='file_path',\n",
    "    y_col='label',\n",
    "    target_size=(img_height, img_width),\n",
    "    batch_size=batch_size,\n",
    "    class_mode='categorical',\n",
    "    shuffle=False\n",
    ")\n"
   ]
  },
  {
   "cell_type": "code",
   "execution_count": 11,
   "metadata": {},
   "outputs": [],
   "source": [
    "from tensorflow.keras.callbacks import EarlyStopping\n",
    "early_stopping = EarlyStopping(monitor='val_loss', patience=5, restore_best_weights=True)\n"
   ]
  },
  {
   "cell_type": "code",
   "execution_count": 12,
   "metadata": {},
   "outputs": [
    {
     "name": "stderr",
     "output_type": "stream",
     "text": [
      "2024-02-22 10:17:12.487469: I metal_plugin/src/device/metal_device.cc:1154] Metal device set to: Apple M1\n",
      "2024-02-22 10:17:12.487613: I metal_plugin/src/device/metal_device.cc:296] systemMemory: 8.00 GB\n",
      "2024-02-22 10:17:12.487627: I metal_plugin/src/device/metal_device.cc:313] maxCacheSize: 2.67 GB\n",
      "2024-02-22 10:17:12.488376: I tensorflow/core/common_runtime/pluggable_device/pluggable_device_factory.cc:306] Could not identify NUMA node of platform GPU ID 0, defaulting to 0. Your kernel may not have been built with NUMA support.\n",
      "2024-02-22 10:17:12.488622: I tensorflow/core/common_runtime/pluggable_device/pluggable_device_factory.cc:272] Created TensorFlow device (/job:localhost/replica:0/task:0/device:GPU:0 with 0 MB memory) -> physical PluggableDevice (device: 0, name: METAL, pci bus id: <undefined>)\n"
     ]
    },
    {
     "name": "stdout",
     "output_type": "stream",
     "text": [
      "Model: \"sequential\"\n",
      "_________________________________________________________________\n",
      " Layer (type)                Output Shape              Param #   \n",
      "=================================================================\n",
      " conv2d (Conv2D)             (None, 222, 222, 32)      896       \n",
      "                                                                 \n",
      " max_pooling2d (MaxPooling2  (None, 111, 111, 32)      0         \n",
      " D)                                                              \n",
      "                                                                 \n",
      " conv2d_1 (Conv2D)           (None, 109, 109, 64)      18496     \n",
      "                                                                 \n",
      " max_pooling2d_1 (MaxPoolin  (None, 54, 54, 64)        0         \n",
      " g2D)                                                            \n",
      "                                                                 \n",
      " conv2d_2 (Conv2D)           (None, 52, 52, 128)       73856     \n",
      "                                                                 \n",
      " max_pooling2d_2 (MaxPoolin  (None, 26, 26, 128)       0         \n",
      " g2D)                                                            \n",
      "                                                                 \n",
      " conv2d_3 (Conv2D)           (None, 24, 24, 256)       295168    \n",
      "                                                                 \n",
      " max_pooling2d_3 (MaxPoolin  (None, 12, 12, 256)       0         \n",
      " g2D)                                                            \n",
      "                                                                 \n",
      " flatten (Flatten)           (None, 36864)             0         \n",
      "                                                                 \n",
      " dense (Dense)               (None, 512)               18874880  \n",
      "                                                                 \n",
      " dropout (Dropout)           (None, 512)               0         \n",
      "                                                                 \n",
      " dense_1 (Dense)             (None, 3)                 1539      \n",
      "                                                                 \n",
      "=================================================================\n",
      "Total params: 19264835 (73.49 MB)\n",
      "Trainable params: 19264835 (73.49 MB)\n",
      "Non-trainable params: 0 (0.00 Byte)\n",
      "_________________________________________________________________\n",
      "Epoch 1/100\n"
     ]
    },
    {
     "name": "stderr",
     "output_type": "stream",
     "text": [
      "2024-02-22 10:17:13.839948: I tensorflow/core/grappler/optimizers/custom_graph_optimizer_registry.cc:117] Plugin optimizer for device_type GPU is enabled.\n"
     ]
    },
    {
     "name": "stdout",
     "output_type": "stream",
     "text": [
      "29/29 [==============================] - 20s 535ms/step - loss: 1.3406 - accuracy: 0.4344 - val_loss: 1.0613 - val_accuracy: 0.4652\n",
      "Epoch 2/100\n",
      "29/29 [==============================] - 15s 517ms/step - loss: 1.0191 - accuracy: 0.4748 - val_loss: 0.9254 - val_accuracy: 0.4739\n",
      "Epoch 3/100\n",
      "29/29 [==============================] - 15s 523ms/step - loss: 0.9696 - accuracy: 0.4770 - val_loss: 0.8945 - val_accuracy: 0.5609\n",
      "Epoch 4/100\n",
      "29/29 [==============================] - 15s 516ms/step - loss: 0.9183 - accuracy: 0.5875 - val_loss: 0.7957 - val_accuracy: 0.6348\n",
      "Epoch 5/100\n",
      "29/29 [==============================] - 15s 515ms/step - loss: 0.8840 - accuracy: 0.6182 - val_loss: 0.9469 - val_accuracy: 0.6043\n",
      "Epoch 6/100\n",
      "29/29 [==============================] - 15s 516ms/step - loss: 0.8023 - accuracy: 0.6565 - val_loss: 0.8700 - val_accuracy: 0.7261\n",
      "Epoch 7/100\n",
      "29/29 [==============================] - 15s 518ms/step - loss: 0.9502 - accuracy: 0.6138 - val_loss: 1.0866 - val_accuracy: 0.4565\n",
      "Epoch 8/100\n",
      "29/29 [==============================] - 15s 515ms/step - loss: 1.0477 - accuracy: 0.5000 - val_loss: 0.8184 - val_accuracy: 0.6522\n",
      "Epoch 9/100\n",
      "29/29 [==============================] - 15s 515ms/step - loss: 0.8171 - accuracy: 0.6575 - val_loss: 0.7904 - val_accuracy: 0.6435\n",
      "Epoch 10/100\n",
      "29/29 [==============================] - 15s 513ms/step - loss: 0.7553 - accuracy: 0.6827 - val_loss: 0.8286 - val_accuracy: 0.6957\n",
      "Epoch 11/100\n",
      "29/29 [==============================] - 15s 518ms/step - loss: 0.7445 - accuracy: 0.6937 - val_loss: 0.6435 - val_accuracy: 0.7435\n",
      "Epoch 12/100\n",
      "29/29 [==============================] - 15s 519ms/step - loss: 0.7477 - accuracy: 0.6904 - val_loss: 0.4941 - val_accuracy: 0.7870\n",
      "Epoch 13/100\n",
      "29/29 [==============================] - 15s 512ms/step - loss: 0.6953 - accuracy: 0.7232 - val_loss: 0.6603 - val_accuracy: 0.7870\n",
      "Epoch 14/100\n",
      "29/29 [==============================] - 15s 514ms/step - loss: 0.6372 - accuracy: 0.7549 - val_loss: 0.6062 - val_accuracy: 0.7565\n",
      "Epoch 15/100\n",
      "29/29 [==============================] - 15s 515ms/step - loss: 0.6258 - accuracy: 0.7593 - val_loss: 0.6450 - val_accuracy: 0.7609\n",
      "Epoch 16/100\n",
      "29/29 [==============================] - 15s 516ms/step - loss: 0.6950 - accuracy: 0.7462 - val_loss: 0.6372 - val_accuracy: 0.7739\n",
      "Epoch 17/100\n",
      "29/29 [==============================] - 15s 513ms/step - loss: 0.6814 - accuracy: 0.7407 - val_loss: 0.6952 - val_accuracy: 0.7522\n"
     ]
    }
   ],
   "source": [
    "\n",
    "from tensorflow.keras.models import Sequential\n",
    "from tensorflow.keras.layers import Conv2D, MaxPooling2D, Flatten, Dense, Dropout\n",
    "def create_cnn(input_shape=(224, 224, 3), num_classes=3):  # Assuming 3 classes: non tumor, non viable tumor, viable tumor\n",
    "    model = Sequential([\n",
    "        Conv2D(32, (3, 3), activation='relu', input_shape=input_shape),\n",
    "        MaxPooling2D((2, 2)),\n",
    "        Conv2D(64, (3, 3), activation='relu'),\n",
    "        MaxPooling2D((2, 2)),\n",
    "        Conv2D(128, (3, 3), activation='relu'),\n",
    "        MaxPooling2D((2, 2)),\n",
    "        Conv2D(256, (3, 3), activation='relu'),\n",
    "        MaxPooling2D((2, 2)),\n",
    "        Flatten(),\n",
    "        Dense(512, activation='relu'),\n",
    "        Dropout(0.5),\n",
    "        Dense(num_classes, activation='softmax')\n",
    "    ])\n",
    "    return model\n",
    "\n",
    "# Create CNN model\n",
    "model = create_cnn()\n",
    "\n",
    "# Compile the model\n",
    "model.compile(optimizer='adam',\n",
    "              loss='categorical_crossentropy',  # Change loss function accordingly\n",
    "              metrics=['accuracy'])\n",
    "\n",
    "# Print model summary\n",
    "model.summary()\n",
    "\n",
    "# Train the model\n",
    "history = model.fit(train_generator,\n",
    "                    steps_per_epoch= len(train_generator),\n",
    "                    epochs=100,\n",
    "                    validation_data=validation_generator,\n",
    "                    validation_steps=len(validation_generator),\n",
    "                    callbacks=[early_stopping])\n",
    "\n",
    "\n"
   ]
  },
  {
   "cell_type": "code",
   "execution_count": null,
   "metadata": {},
   "outputs": [],
   "source": []
  },
  {
   "cell_type": "code",
   "execution_count": 14,
   "metadata": {},
   "outputs": [
    {
     "name": "stdout",
     "output_type": "stream",
     "text": [
      "5/5 [==============================] - 1s 252ms/step - loss: 0.5279 - accuracy: 0.7875\n",
      "Test accuracy: 0.7875000238418579\n"
     ]
    },
    {
     "name": "stderr",
     "output_type": "stream",
     "text": [
      "/var/folders/yd/6l3qbbqj2qx_y_lxrr45xd480000gn/T/ipykernel_18848/3608557048.py:12: UserWarning: `Model.predict_generator` is deprecated and will be removed in a future version. Please use `Model.predict`, which supports generators.\n",
      "  y_pred = model.predict_generator(test_generator, steps=test_generator.samples // batch_size + 1)\n"
     ]
    },
    {
     "name": "stdout",
     "output_type": "stream",
     "text": [
      "Macro-averaged F1-score: 0.7427622211675368\n",
      "Confusion matrix:\n",
      " [[87  3  3]\n",
      " [ 6 30  8]\n",
      " [10  9 27]]\n",
      "AUC-ROC scores for each class: 0.9272984973406134\n",
      "Average AUC-ROC score: 0.9272984973406134\n"
     ]
    }
   ],
   "source": [
    "import numpy as np\n",
    "from sklearn.metrics import f1_score, confusion_matrix, roc_auc_score\n",
    "\n",
    "# Assuming you already have your test generator and model trained\n",
    "\n",
    "# Evaluate the model using test generator\n",
    "test_loss, test_acc = model.evaluate(test_generator, steps=test_generator.samples // batch_size)\n",
    "print(\"Test accuracy:\", test_acc)\n",
    "\n",
    "# Get predictions and true labels\n",
    "# Ensure that steps is set to get the correct number of samples\n",
    "y_pred = model.predict_generator(test_generator, steps=test_generator.samples // batch_size + 1)\n",
    "y_true = test_generator.classes\n",
    "\n",
    "# Only take the necessary number of samples from y_true\n",
    "y_true = y_true[:len(y_pred)]\n",
    "\n",
    "# Calculate macro-averaged F1-score\n",
    "macro_f1 = f1_score(y_true, y_pred.argmax(axis=1), average='macro')\n",
    "print(\"Macro-averaged F1-score:\", macro_f1)\n",
    "\n",
    "# Calculate confusion matrix\n",
    "cm = confusion_matrix(y_true, y_pred.argmax(axis=1))\n",
    "print(\"Confusion matrix:\\n\", cm)\n",
    "\n",
    "# Calculate AUC-ROC score for each class\n",
    "y_onehot = np.zeros((len(y_true), len(np.unique(y_true))))\n",
    "y_onehot[np.arange(len(y_true)), y_true] = 1\n",
    "auc_roc_scores = roc_auc_score(y_onehot, y_pred, multi_class='ovr')\n",
    "print(\"AUC-ROC scores for each class:\", auc_roc_scores)\n",
    "\n",
    "# Calculate average AUC-ROC score\n",
    "average_auc_roc = np.mean(auc_roc_scores)\n",
    "print(\"Average AUC-ROC score:\", average_auc_roc)\n"
   ]
  },
  {
   "cell_type": "code",
   "execution_count": null,
   "metadata": {},
   "outputs": [],
   "source": []
  }
 ],
 "metadata": {
  "kernelspec": {
   "display_name": "base",
   "language": "python",
   "name": "python3"
  },
  "language_info": {
   "codemirror_mode": {
    "name": "ipython",
    "version": 3
   },
   "file_extension": ".py",
   "mimetype": "text/x-python",
   "name": "python",
   "nbconvert_exporter": "python",
   "pygments_lexer": "ipython3",
   "version": "3.11.3"
  }
 },
 "nbformat": 4,
 "nbformat_minor": 2
}
